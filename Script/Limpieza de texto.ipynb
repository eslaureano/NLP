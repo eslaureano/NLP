{
 "cells": [
  {
   "cell_type": "markdown",
   "id": "1aab3514",
   "metadata": {},
   "source": [
    "## Limpieza de texto  "
   ]
  },
  {
   "cell_type": "markdown",
   "id": "ef8365fa",
   "metadata": {},
   "source": [
    "En este primer script vamos a tratar la  **limpieza de texto**, el dataset es un ejemplo de datos públicos generados, guardados y publicados por organismos de gobierno de Argentina del siguiente link: https://datos.gob.ar/dataset \n",
    "El dataset con el que se trabaja se encuentra en mi drive para descargar en el siguiente link: https://drive.google.com/file/d/1gvMy2oM9rJ06dkiYy6snY3alsP0L5s8b/view?usp=sharing"
   ]
  },
  {
   "cell_type": "code",
   "execution_count": 1,
   "id": "d418a3ba",
   "metadata": {},
   "outputs": [],
   "source": [
    "import pandas as pd\n",
    "from funpymodeling import freq_tbl,status,profiling_num\n",
    "import string\n",
    "import re\n",
    "import warnings\n",
    "warnings.filterwarnings(\"ignore\", category=DeprecationWarning)"
   ]
  },
  {
   "cell_type": "markdown",
   "id": "d6764192",
   "metadata": {},
   "source": [
    "He trabajado datos de reniec y de migraciones de mi País donde tengo información de apellidos, nombres, fecha de nacimiento y de movimiento migratorio, he tenido que trabajar con estos campos para su comparación, dado que los datos de estos dataset tienen signos de puntuación, alfanuméricos, acéntos, números, etc."
   ]
  },
  {
   "cell_type": "code",
   "execution_count": 3,
   "id": "e684372f",
   "metadata": {},
   "outputs": [
    {
     "name": "stderr",
     "output_type": "stream",
     "text": [
      "<timed exec>:2: FutureWarning: The error_bad_lines argument has been deprecated and will be removed in a future version. Use on_bad_lines in the future.\n",
      "\n",
      "\n",
      "<timed exec>:2: DtypeWarning: Columns (0) have mixed types. Specify dtype option on import or set low_memory=False.\n"
     ]
    },
    {
     "name": "stdout",
     "output_type": "stream",
     "text": [
      "(207515, 6)\n",
      "Wall time: 224 ms\n"
     ]
    },
    {
     "data": {
      "text/html": [
       "<div>\n",
       "<style scoped>\n",
       "    .dataframe tbody tr th:only-of-type {\n",
       "        vertical-align: middle;\n",
       "    }\n",
       "\n",
       "    .dataframe tbody tr th {\n",
       "        vertical-align: top;\n",
       "    }\n",
       "\n",
       "    .dataframe thead th {\n",
       "        text-align: right;\n",
       "    }\n",
       "</style>\n",
       "<table border=\"1\" class=\"dataframe\">\n",
       "  <thead>\n",
       "    <tr style=\"text-align: right;\">\n",
       "      <th></th>\n",
       "      <th>persona_id</th>\n",
       "      <th>nombre</th>\n",
       "      <th>apellido</th>\n",
       "      <th>sexo_id</th>\n",
       "      <th>edad</th>\n",
       "      <th>cvar_ultimo_acceso</th>\n",
       "    </tr>\n",
       "  </thead>\n",
       "  <tbody>\n",
       "    <tr>\n",
       "      <th>0</th>\n",
       "      <td>1</td>\n",
       "      <td>JUAN PABLO</td>\n",
       "      <td>soto</td>\n",
       "      <td>2.0</td>\n",
       "      <td>46.0</td>\n",
       "      <td>29/11/2017</td>\n",
       "    </tr>\n",
       "    <tr>\n",
       "      <th>1</th>\n",
       "      <td>2</td>\n",
       "      <td>SILVINA</td>\n",
       "      <td>GONZALEZ</td>\n",
       "      <td>1.0</td>\n",
       "      <td>38.0</td>\n",
       "      <td>6/02/2012</td>\n",
       "    </tr>\n",
       "    <tr>\n",
       "      <th>2</th>\n",
       "      <td>3</td>\n",
       "      <td>DIEGO FERNANDO</td>\n",
       "      <td>ASENSIO</td>\n",
       "      <td>2.0</td>\n",
       "      <td>48.0</td>\n",
       "      <td>28/11/2019</td>\n",
       "    </tr>\n",
       "    <tr>\n",
       "      <th>3</th>\n",
       "      <td>4</td>\n",
       "      <td>MARÃA VICTORIA</td>\n",
       "      <td>TIGNINO</td>\n",
       "      <td>1.0</td>\n",
       "      <td>39.0</td>\n",
       "      <td>24/04/2019</td>\n",
       "    </tr>\n",
       "    <tr>\n",
       "      <th>4</th>\n",
       "      <td>5</td>\n",
       "      <td>CLAUDIA LEDA</td>\n",
       "      <td>MATTEO</td>\n",
       "      <td>1.0</td>\n",
       "      <td>58.0</td>\n",
       "      <td>2/09/2018</td>\n",
       "    </tr>\n",
       "  </tbody>\n",
       "</table>\n",
       "</div>"
      ],
      "text/plain": [
       "  persona_id           nombre  apellido  sexo_id  edad cvar_ultimo_acceso\n",
       "0          1       JUAN PABLO      soto      2.0  46.0         29/11/2017\n",
       "1          2          SILVINA  GONZALEZ      1.0  38.0          6/02/2012\n",
       "2          3   DIEGO FERNANDO   ASENSIO      2.0  48.0         28/11/2019\n",
       "3          4  MARÃA VICTORIA   TIGNINO      1.0  39.0         24/04/2019\n",
       "4          5     CLAUDIA LEDA    MATTEO      1.0  58.0          2/09/2018"
      ]
     },
     "execution_count": 3,
     "metadata": {},
     "output_type": "execute_result"
    }
   ],
   "source": [
    "%%time\n",
    "ruta = r\"C:\\Users\\Computer\\Documents\\5.ML\\NLP\\Bases\\personas.csv\"\n",
    "personas=pd.read_csv(ruta, sep=\";\", encoding=\"latin1\", error_bad_lines=False,index_col=False)\n",
    "print(personas.shape)\n",
    "personas.head()"
   ]
  },
  {
   "cell_type": "code",
   "execution_count": 4,
   "id": "6373e735",
   "metadata": {},
   "outputs": [
    {
     "data": {
      "text/html": [
       "<div>\n",
       "<style scoped>\n",
       "    .dataframe tbody tr th:only-of-type {\n",
       "        vertical-align: middle;\n",
       "    }\n",
       "\n",
       "    .dataframe tbody tr th {\n",
       "        vertical-align: top;\n",
       "    }\n",
       "\n",
       "    .dataframe thead th {\n",
       "        text-align: right;\n",
       "    }\n",
       "</style>\n",
       "<table border=\"1\" class=\"dataframe\">\n",
       "  <thead>\n",
       "    <tr style=\"text-align: right;\">\n",
       "      <th></th>\n",
       "      <th>variable</th>\n",
       "      <th>q_nan</th>\n",
       "      <th>p_nan</th>\n",
       "      <th>q_zeros</th>\n",
       "      <th>p_zeros</th>\n",
       "      <th>unique</th>\n",
       "      <th>type</th>\n",
       "    </tr>\n",
       "  </thead>\n",
       "  <tbody>\n",
       "    <tr>\n",
       "      <th>0</th>\n",
       "      <td>persona_id</td>\n",
       "      <td>0</td>\n",
       "      <td>0.000000</td>\n",
       "      <td>0</td>\n",
       "      <td>0.0</td>\n",
       "      <td>207515</td>\n",
       "      <td>object</td>\n",
       "    </tr>\n",
       "    <tr>\n",
       "      <th>1</th>\n",
       "      <td>nombre</td>\n",
       "      <td>2183</td>\n",
       "      <td>0.010520</td>\n",
       "      <td>0</td>\n",
       "      <td>0.0</td>\n",
       "      <td>64231</td>\n",
       "      <td>object</td>\n",
       "    </tr>\n",
       "    <tr>\n",
       "      <th>2</th>\n",
       "      <td>apellido</td>\n",
       "      <td>3312</td>\n",
       "      <td>0.015960</td>\n",
       "      <td>0</td>\n",
       "      <td>0.0</td>\n",
       "      <td>84267</td>\n",
       "      <td>object</td>\n",
       "    </tr>\n",
       "    <tr>\n",
       "      <th>3</th>\n",
       "      <td>sexo_id</td>\n",
       "      <td>54441</td>\n",
       "      <td>0.262347</td>\n",
       "      <td>0</td>\n",
       "      <td>0.0</td>\n",
       "      <td>2</td>\n",
       "      <td>float64</td>\n",
       "    </tr>\n",
       "    <tr>\n",
       "      <th>4</th>\n",
       "      <td>edad</td>\n",
       "      <td>54441</td>\n",
       "      <td>0.262347</td>\n",
       "      <td>0</td>\n",
       "      <td>0.0</td>\n",
       "      <td>83</td>\n",
       "      <td>float64</td>\n",
       "    </tr>\n",
       "    <tr>\n",
       "      <th>5</th>\n",
       "      <td>cvar_ultimo_acceso</td>\n",
       "      <td>54614</td>\n",
       "      <td>0.263181</td>\n",
       "      <td>0</td>\n",
       "      <td>0.0</td>\n",
       "      <td>3220</td>\n",
       "      <td>object</td>\n",
       "    </tr>\n",
       "  </tbody>\n",
       "</table>\n",
       "</div>"
      ],
      "text/plain": [
       "             variable  q_nan     p_nan  q_zeros  p_zeros  unique     type\n",
       "0          persona_id      0  0.000000        0      0.0  207515   object\n",
       "1              nombre   2183  0.010520        0      0.0   64231   object\n",
       "2            apellido   3312  0.015960        0      0.0   84267   object\n",
       "3             sexo_id  54441  0.262347        0      0.0       2  float64\n",
       "4                edad  54441  0.262347        0      0.0      83  float64\n",
       "5  cvar_ultimo_acceso  54614  0.263181        0      0.0    3220   object"
      ]
     },
     "execution_count": 4,
     "metadata": {},
     "output_type": "execute_result"
    }
   ],
   "source": [
    "status(personas)"
   ]
  },
  {
   "cell_type": "markdown",
   "id": "f29b2dc9",
   "metadata": {},
   "source": [
    "Observando los campos Sexo y edad son numéricos, entonces lo cambiamos a integer para no tenerlo como float"
   ]
  },
  {
   "cell_type": "code",
   "execution_count": 7,
   "id": "23b2bb11",
   "metadata": {},
   "outputs": [
    {
     "data": {
      "text/html": [
       "<div>\n",
       "<style scoped>\n",
       "    .dataframe tbody tr th:only-of-type {\n",
       "        vertical-align: middle;\n",
       "    }\n",
       "\n",
       "    .dataframe tbody tr th {\n",
       "        vertical-align: top;\n",
       "    }\n",
       "\n",
       "    .dataframe thead th {\n",
       "        text-align: right;\n",
       "    }\n",
       "</style>\n",
       "<table border=\"1\" class=\"dataframe\">\n",
       "  <thead>\n",
       "    <tr style=\"text-align: right;\">\n",
       "      <th></th>\n",
       "      <th>variable</th>\n",
       "      <th>q_nan</th>\n",
       "      <th>p_nan</th>\n",
       "      <th>q_zeros</th>\n",
       "      <th>p_zeros</th>\n",
       "      <th>unique</th>\n",
       "      <th>type</th>\n",
       "    </tr>\n",
       "  </thead>\n",
       "  <tbody>\n",
       "    <tr>\n",
       "      <th>0</th>\n",
       "      <td>persona_id</td>\n",
       "      <td>0</td>\n",
       "      <td>0.000000</td>\n",
       "      <td>0</td>\n",
       "      <td>0.0</td>\n",
       "      <td>207515</td>\n",
       "      <td>object</td>\n",
       "    </tr>\n",
       "    <tr>\n",
       "      <th>1</th>\n",
       "      <td>nombre</td>\n",
       "      <td>2183</td>\n",
       "      <td>0.010520</td>\n",
       "      <td>0</td>\n",
       "      <td>0.0</td>\n",
       "      <td>64231</td>\n",
       "      <td>object</td>\n",
       "    </tr>\n",
       "    <tr>\n",
       "      <th>2</th>\n",
       "      <td>apellido</td>\n",
       "      <td>3312</td>\n",
       "      <td>0.015960</td>\n",
       "      <td>0</td>\n",
       "      <td>0.0</td>\n",
       "      <td>84267</td>\n",
       "      <td>object</td>\n",
       "    </tr>\n",
       "    <tr>\n",
       "      <th>3</th>\n",
       "      <td>sexo_id</td>\n",
       "      <td>54441</td>\n",
       "      <td>0.262347</td>\n",
       "      <td>0</td>\n",
       "      <td>0.0</td>\n",
       "      <td>2</td>\n",
       "      <td>Int64</td>\n",
       "    </tr>\n",
       "    <tr>\n",
       "      <th>4</th>\n",
       "      <td>edad</td>\n",
       "      <td>54441</td>\n",
       "      <td>0.262347</td>\n",
       "      <td>0</td>\n",
       "      <td>0.0</td>\n",
       "      <td>83</td>\n",
       "      <td>Int64</td>\n",
       "    </tr>\n",
       "    <tr>\n",
       "      <th>5</th>\n",
       "      <td>cvar_ultimo_acceso</td>\n",
       "      <td>54614</td>\n",
       "      <td>0.263181</td>\n",
       "      <td>0</td>\n",
       "      <td>0.0</td>\n",
       "      <td>3220</td>\n",
       "      <td>object</td>\n",
       "    </tr>\n",
       "  </tbody>\n",
       "</table>\n",
       "</div>"
      ],
      "text/plain": [
       "             variable  q_nan     p_nan  q_zeros  p_zeros  unique    type\n",
       "0          persona_id      0  0.000000        0      0.0  207515  object\n",
       "1              nombre   2183  0.010520        0      0.0   64231  object\n",
       "2            apellido   3312  0.015960        0      0.0   84267  object\n",
       "3             sexo_id  54441  0.262347        0      0.0       2   Int64\n",
       "4                edad  54441  0.262347        0      0.0      83   Int64\n",
       "5  cvar_ultimo_acceso  54614  0.263181        0      0.0    3220  object"
      ]
     },
     "execution_count": 7,
     "metadata": {},
     "output_type": "execute_result"
    }
   ],
   "source": [
    "personas['sexo_id'] = personas['sexo_id'].astype('Int64')\n",
    "personas['edad'] = personas['edad'].astype('Int64')\n",
    "status(personas)"
   ]
  },
  {
   "cell_type": "markdown",
   "id": "43f7678e",
   "metadata": {},
   "source": [
    "Concatenamos los campos de texto que son nombre y apellido"
   ]
  },
  {
   "cell_type": "code",
   "execution_count": 9,
   "id": "b9ee8cbf",
   "metadata": {},
   "outputs": [
    {
     "name": "stdout",
     "output_type": "stream",
     "text": [
      "(207515, 7)\n"
     ]
    },
    {
     "data": {
      "text/html": [
       "<div>\n",
       "<style scoped>\n",
       "    .dataframe tbody tr th:only-of-type {\n",
       "        vertical-align: middle;\n",
       "    }\n",
       "\n",
       "    .dataframe tbody tr th {\n",
       "        vertical-align: top;\n",
       "    }\n",
       "\n",
       "    .dataframe thead th {\n",
       "        text-align: right;\n",
       "    }\n",
       "</style>\n",
       "<table border=\"1\" class=\"dataframe\">\n",
       "  <thead>\n",
       "    <tr style=\"text-align: right;\">\n",
       "      <th></th>\n",
       "      <th>persona_id</th>\n",
       "      <th>nombre</th>\n",
       "      <th>apellido</th>\n",
       "      <th>sexo_id</th>\n",
       "      <th>edad</th>\n",
       "      <th>cvar_ultimo_acceso</th>\n",
       "      <th>NombreCompleto</th>\n",
       "    </tr>\n",
       "  </thead>\n",
       "  <tbody>\n",
       "    <tr>\n",
       "      <th>0</th>\n",
       "      <td>1</td>\n",
       "      <td>JUAN PABLO</td>\n",
       "      <td>soto</td>\n",
       "      <td>2</td>\n",
       "      <td>46</td>\n",
       "      <td>29/11/2017</td>\n",
       "      <td>JUAN PABLO soto</td>\n",
       "    </tr>\n",
       "    <tr>\n",
       "      <th>1</th>\n",
       "      <td>2</td>\n",
       "      <td>SILVINA</td>\n",
       "      <td>GONZALEZ</td>\n",
       "      <td>1</td>\n",
       "      <td>38</td>\n",
       "      <td>6/02/2012</td>\n",
       "      <td>SILVINA GONZALEZ</td>\n",
       "    </tr>\n",
       "    <tr>\n",
       "      <th>2</th>\n",
       "      <td>3</td>\n",
       "      <td>DIEGO FERNANDO</td>\n",
       "      <td>ASENSIO</td>\n",
       "      <td>2</td>\n",
       "      <td>48</td>\n",
       "      <td>28/11/2019</td>\n",
       "      <td>DIEGO FERNANDO ASENSIO</td>\n",
       "    </tr>\n",
       "    <tr>\n",
       "      <th>3</th>\n",
       "      <td>4</td>\n",
       "      <td>MARÃA VICTORIA</td>\n",
       "      <td>TIGNINO</td>\n",
       "      <td>1</td>\n",
       "      <td>39</td>\n",
       "      <td>24/04/2019</td>\n",
       "      <td>MARÃA VICTORIA TIGNINO</td>\n",
       "    </tr>\n",
       "    <tr>\n",
       "      <th>4</th>\n",
       "      <td>5</td>\n",
       "      <td>CLAUDIA LEDA</td>\n",
       "      <td>MATTEO</td>\n",
       "      <td>1</td>\n",
       "      <td>58</td>\n",
       "      <td>2/09/2018</td>\n",
       "      <td>CLAUDIA LEDA MATTEO</td>\n",
       "    </tr>\n",
       "  </tbody>\n",
       "</table>\n",
       "</div>"
      ],
      "text/plain": [
       "  persona_id           nombre  apellido  sexo_id  edad cvar_ultimo_acceso  \\\n",
       "0          1       JUAN PABLO      soto        2    46         29/11/2017   \n",
       "1          2          SILVINA  GONZALEZ        1    38          6/02/2012   \n",
       "2          3   DIEGO FERNANDO   ASENSIO        2    48         28/11/2019   \n",
       "3          4  MARÃA VICTORIA   TIGNINO        1    39         24/04/2019   \n",
       "4          5     CLAUDIA LEDA    MATTEO        1    58          2/09/2018   \n",
       "\n",
       "            NombreCompleto  \n",
       "0          JUAN PABLO soto  \n",
       "1         SILVINA GONZALEZ  \n",
       "2   DIEGO FERNANDO ASENSIO  \n",
       "3  MARÃA VICTORIA TIGNINO  \n",
       "4      CLAUDIA LEDA MATTEO  "
      ]
     },
     "execution_count": 9,
     "metadata": {},
     "output_type": "execute_result"
    }
   ],
   "source": [
    "personas['NombreCompleto'] = personas[['nombre', 'apellido']].apply(lambda x: ' '.join(map(str, x)), axis = 1)\n",
    "print(personas.shape)\n",
    "personas.head()"
   ]
  },
  {
   "cell_type": "markdown",
   "id": "f33d42ed",
   "metadata": {},
   "source": [
    "Empezamos la limpieza del campo **NombreCompleto**"
   ]
  },
  {
   "cell_type": "markdown",
   "id": "438cb65f",
   "metadata": {},
   "source": [
    "* Retirar espacios en blanco de inicio y fin.\n",
    "* Convertir a mayúscula.\n",
    "* Reemplazar caracteres (À, Á, ,Ã,Ä,Å, È,É,Ê,Ë,Ì,Í,Î,Ï,Ò,Ó,Ô,Õ,Ö,Ø,Ù,Ú,Û,Ü) por vocales.\n",
    "* Remover signos de puntuación."
   ]
  },
  {
   "cell_type": "code",
   "execution_count": 11,
   "id": "cffee3d4",
   "metadata": {},
   "outputs": [],
   "source": [
    "personas['NombreCompleto']=personas['NombreCompleto'].str.strip()"
   ]
  },
  {
   "cell_type": "code",
   "execution_count": 12,
   "id": "7a6f94ba",
   "metadata": {},
   "outputs": [
    {
     "data": {
      "text/html": [
       "<div>\n",
       "<style scoped>\n",
       "    .dataframe tbody tr th:only-of-type {\n",
       "        vertical-align: middle;\n",
       "    }\n",
       "\n",
       "    .dataframe tbody tr th {\n",
       "        vertical-align: top;\n",
       "    }\n",
       "\n",
       "    .dataframe thead th {\n",
       "        text-align: right;\n",
       "    }\n",
       "</style>\n",
       "<table border=\"1\" class=\"dataframe\">\n",
       "  <thead>\n",
       "    <tr style=\"text-align: right;\">\n",
       "      <th></th>\n",
       "      <th>persona_id</th>\n",
       "      <th>nombre</th>\n",
       "      <th>apellido</th>\n",
       "      <th>sexo_id</th>\n",
       "      <th>edad</th>\n",
       "      <th>cvar_ultimo_acceso</th>\n",
       "      <th>NombreCompleto</th>\n",
       "    </tr>\n",
       "  </thead>\n",
       "  <tbody>\n",
       "    <tr>\n",
       "      <th>0</th>\n",
       "      <td>1</td>\n",
       "      <td>JUAN PABLO</td>\n",
       "      <td>soto</td>\n",
       "      <td>2</td>\n",
       "      <td>46</td>\n",
       "      <td>29/11/2017</td>\n",
       "      <td>JUAN PABLO SOTO</td>\n",
       "    </tr>\n",
       "    <tr>\n",
       "      <th>1</th>\n",
       "      <td>2</td>\n",
       "      <td>SILVINA</td>\n",
       "      <td>GONZALEZ</td>\n",
       "      <td>1</td>\n",
       "      <td>38</td>\n",
       "      <td>6/02/2012</td>\n",
       "      <td>SILVINA GONZALEZ</td>\n",
       "    </tr>\n",
       "    <tr>\n",
       "      <th>2</th>\n",
       "      <td>3</td>\n",
       "      <td>DIEGO FERNANDO</td>\n",
       "      <td>ASENSIO</td>\n",
       "      <td>2</td>\n",
       "      <td>48</td>\n",
       "      <td>28/11/2019</td>\n",
       "      <td>DIEGO FERNANDO ASENSIO</td>\n",
       "    </tr>\n",
       "    <tr>\n",
       "      <th>3</th>\n",
       "      <td>4</td>\n",
       "      <td>MARÃA VICTORIA</td>\n",
       "      <td>TIGNINO</td>\n",
       "      <td>1</td>\n",
       "      <td>39</td>\n",
       "      <td>24/04/2019</td>\n",
       "      <td>MARÃA VICTORIA TIGNINO</td>\n",
       "    </tr>\n",
       "    <tr>\n",
       "      <th>4</th>\n",
       "      <td>5</td>\n",
       "      <td>CLAUDIA LEDA</td>\n",
       "      <td>MATTEO</td>\n",
       "      <td>1</td>\n",
       "      <td>58</td>\n",
       "      <td>2/09/2018</td>\n",
       "      <td>CLAUDIA LEDA MATTEO</td>\n",
       "    </tr>\n",
       "  </tbody>\n",
       "</table>\n",
       "</div>"
      ],
      "text/plain": [
       "  persona_id           nombre  apellido  sexo_id  edad cvar_ultimo_acceso  \\\n",
       "0          1       JUAN PABLO      soto        2    46         29/11/2017   \n",
       "1          2          SILVINA  GONZALEZ        1    38          6/02/2012   \n",
       "2          3   DIEGO FERNANDO   ASENSIO        2    48         28/11/2019   \n",
       "3          4  MARÃA VICTORIA   TIGNINO        1    39         24/04/2019   \n",
       "4          5     CLAUDIA LEDA    MATTEO        1    58          2/09/2018   \n",
       "\n",
       "            NombreCompleto  \n",
       "0          JUAN PABLO SOTO  \n",
       "1         SILVINA GONZALEZ  \n",
       "2   DIEGO FERNANDO ASENSIO  \n",
       "3  MARÃA VICTORIA TIGNINO  \n",
       "4      CLAUDIA LEDA MATTEO  "
      ]
     },
     "execution_count": 12,
     "metadata": {},
     "output_type": "execute_result"
    }
   ],
   "source": [
    "personas['NombreCompleto'] = personas['NombreCompleto'].str.upper()\n",
    "personas.head()"
   ]
  },
  {
   "cell_type": "code",
   "execution_count": 13,
   "id": "9c3934ed",
   "metadata": {},
   "outputs": [],
   "source": [
    "personas['NombreCompleto'] = personas['NombreCompleto'].str.replace('À','A')\n",
    "personas['NombreCompleto'] = personas['NombreCompleto'].str.replace('Á','A')\n",
    "personas['NombreCompleto'] = personas['NombreCompleto'].str.replace('Â','A')\n",
    "personas['NombreCompleto'] = personas['NombreCompleto'].str.replace('Ä','A')\n",
    "personas['NombreCompleto'] = personas['NombreCompleto'].str.replace('Å','A')\n",
    "personas['NombreCompleto'] = personas['NombreCompleto'].str.replace('Ã','A')\n",
    "personas['NombreCompleto'] = personas['NombreCompleto'].str.replace('È','E')\n",
    "personas['NombreCompleto'] = personas['NombreCompleto'].str.replace('É','E')\n",
    "personas['NombreCompleto'] = personas['NombreCompleto'].str.replace('Ê','E')\n",
    "personas['NombreCompleto'] = personas['NombreCompleto'].str.replace('Ë','E')\n",
    "personas['NombreCompleto'] = personas['NombreCompleto'].str.replace('Ì','I')\n",
    "personas['NombreCompleto'] = personas['NombreCompleto'].str.replace('Í','I')\n",
    "personas['NombreCompleto'] = personas['NombreCompleto'].str.replace('Î','I')\n",
    "personas['NombreCompleto'] = personas['NombreCompleto'].str.replace('Ï','I')\n",
    "personas['NombreCompleto'] = personas['NombreCompleto'].str.replace('Ò','O')\n",
    "personas['NombreCompleto'] = personas['NombreCompleto'].str.replace('Ó','O')\n",
    "personas['NombreCompleto'] = personas['NombreCompleto'].str.replace('Ô','O')\n",
    "personas['NombreCompleto'] = personas['NombreCompleto'].str.replace('Õ','O')\n",
    "personas['NombreCompleto'] = personas['NombreCompleto'].str.replace('Ö','O')\n",
    "personas['NombreCompleto'] = personas['NombreCompleto'].str.replace('Ø','O')\n",
    "personas['NombreCompleto'] = personas['NombreCompleto'].str.replace('Ù','U')\n",
    "personas['NombreCompleto'] = personas['NombreCompleto'].str.replace('Ú','U')\n",
    "personas['NombreCompleto'] = personas['NombreCompleto'].str.replace('Û','U')\n",
    "personas['NombreCompleto'] = personas['NombreCompleto'].str.replace('Ü','U')"
   ]
  },
  {
   "cell_type": "code",
   "execution_count": 14,
   "id": "3134b261",
   "metadata": {},
   "outputs": [
    {
     "data": {
      "text/html": [
       "<div>\n",
       "<style scoped>\n",
       "    .dataframe tbody tr th:only-of-type {\n",
       "        vertical-align: middle;\n",
       "    }\n",
       "\n",
       "    .dataframe tbody tr th {\n",
       "        vertical-align: top;\n",
       "    }\n",
       "\n",
       "    .dataframe thead th {\n",
       "        text-align: right;\n",
       "    }\n",
       "</style>\n",
       "<table border=\"1\" class=\"dataframe\">\n",
       "  <thead>\n",
       "    <tr style=\"text-align: right;\">\n",
       "      <th></th>\n",
       "      <th>persona_id</th>\n",
       "      <th>nombre</th>\n",
       "      <th>apellido</th>\n",
       "      <th>sexo_id</th>\n",
       "      <th>edad</th>\n",
       "      <th>cvar_ultimo_acceso</th>\n",
       "      <th>NombreCompleto</th>\n",
       "    </tr>\n",
       "  </thead>\n",
       "  <tbody>\n",
       "    <tr>\n",
       "      <th>0</th>\n",
       "      <td>1</td>\n",
       "      <td>JUAN PABLO</td>\n",
       "      <td>soto</td>\n",
       "      <td>2</td>\n",
       "      <td>46</td>\n",
       "      <td>29/11/2017</td>\n",
       "      <td>JUAN PABLO SOTO</td>\n",
       "    </tr>\n",
       "    <tr>\n",
       "      <th>1</th>\n",
       "      <td>2</td>\n",
       "      <td>SILVINA</td>\n",
       "      <td>GONZALEZ</td>\n",
       "      <td>1</td>\n",
       "      <td>38</td>\n",
       "      <td>6/02/2012</td>\n",
       "      <td>SILVINA GONZALEZ</td>\n",
       "    </tr>\n",
       "    <tr>\n",
       "      <th>2</th>\n",
       "      <td>3</td>\n",
       "      <td>DIEGO FERNANDO</td>\n",
       "      <td>ASENSIO</td>\n",
       "      <td>2</td>\n",
       "      <td>48</td>\n",
       "      <td>28/11/2019</td>\n",
       "      <td>DIEGO FERNANDO ASENSIO</td>\n",
       "    </tr>\n",
       "    <tr>\n",
       "      <th>3</th>\n",
       "      <td>4</td>\n",
       "      <td>MARÃA VICTORIA</td>\n",
       "      <td>TIGNINO</td>\n",
       "      <td>1</td>\n",
       "      <td>39</td>\n",
       "      <td>24/04/2019</td>\n",
       "      <td>MARAA VICTORIA TIGNINO</td>\n",
       "    </tr>\n",
       "    <tr>\n",
       "      <th>4</th>\n",
       "      <td>5</td>\n",
       "      <td>CLAUDIA LEDA</td>\n",
       "      <td>MATTEO</td>\n",
       "      <td>1</td>\n",
       "      <td>58</td>\n",
       "      <td>2/09/2018</td>\n",
       "      <td>CLAUDIA LEDA MATTEO</td>\n",
       "    </tr>\n",
       "  </tbody>\n",
       "</table>\n",
       "</div>"
      ],
      "text/plain": [
       "  persona_id           nombre  apellido  sexo_id  edad cvar_ultimo_acceso  \\\n",
       "0          1       JUAN PABLO      soto        2    46         29/11/2017   \n",
       "1          2          SILVINA  GONZALEZ        1    38          6/02/2012   \n",
       "2          3   DIEGO FERNANDO   ASENSIO        2    48         28/11/2019   \n",
       "3          4  MARÃA VICTORIA   TIGNINO        1    39         24/04/2019   \n",
       "4          5     CLAUDIA LEDA    MATTEO        1    58          2/09/2018   \n",
       "\n",
       "           NombreCompleto  \n",
       "0         JUAN PABLO SOTO  \n",
       "1        SILVINA GONZALEZ  \n",
       "2  DIEGO FERNANDO ASENSIO  \n",
       "3  MARAA VICTORIA TIGNINO  \n",
       "4     CLAUDIA LEDA MATTEO  "
      ]
     },
     "execution_count": 14,
     "metadata": {},
     "output_type": "execute_result"
    }
   ],
   "source": [
    "personas['NombreCompleto'] = personas['NombreCompleto'].apply(lambda elem: re.sub(\"[^0-9A-Za-z ]\", \"\", elem))\n",
    "personas.head()"
   ]
  },
  {
   "cell_type": "markdown",
   "id": "1b618c9b",
   "metadata": {},
   "source": [
    "Limpieza para emoticones, símbolos, pictografías, en el caso tengas casos de texto de webs"
   ]
  },
  {
   "cell_type": "code",
   "execution_count": 15,
   "id": "c4773cb4",
   "metadata": {},
   "outputs": [
    {
     "name": "stdout",
     "output_type": "stream",
     "text": [
      "😀-🙏\n"
     ]
    }
   ],
   "source": [
    "print(u\"\\U0001F600-\\U0001F64F\")"
   ]
  },
  {
   "cell_type": "code",
   "execution_count": 16,
   "id": "c660bd86",
   "metadata": {},
   "outputs": [
    {
     "name": "stdout",
     "output_type": "stream",
     "text": [
      "🚀-🛿\n"
     ]
    }
   ],
   "source": [
    "print(u\"\\U0001F680-\\U0001F6FF\")"
   ]
  },
  {
   "cell_type": "code",
   "execution_count": 17,
   "id": "b61f9782",
   "metadata": {},
   "outputs": [
    {
     "name": "stdout",
     "output_type": "stream",
     "text": [
      "🇠-🇿\n"
     ]
    }
   ],
   "source": [
    "print(u\"\\U0001F1E0-\\U0001F1FF\")"
   ]
  },
  {
   "cell_type": "code",
   "execution_count": 18,
   "id": "3e1b4f42",
   "metadata": {},
   "outputs": [
    {
     "name": "stdout",
     "output_type": "stream",
     "text": [
      "✂-➰\n"
     ]
    }
   ],
   "source": [
    "print(u\"\\U00002702-\\U000027B0\")"
   ]
  },
  {
   "cell_type": "code",
   "execution_count": 19,
   "id": "0c42af18",
   "metadata": {},
   "outputs": [
    {
     "name": "stdout",
     "output_type": "stream",
     "text": [
      "Ⓜ-🉑\n"
     ]
    }
   ],
   "source": [
    "print(u\"\\U000024C2-\\U0001F251\")"
   ]
  },
  {
   "cell_type": "markdown",
   "id": "ae36be91",
   "metadata": {},
   "source": [
    "remueve menciones con **@**, **URLS** y **hashtags**               "
   ]
  },
  {
   "cell_type": "code",
   "execution_count": null,
   "id": "e9f9e2ee",
   "metadata": {},
   "outputs": [],
   "source": [
    "document = re.sub(\"@[A-Za-z0-9_]+\",\" \", document)\n",
    "document = re.sub(r'http\\S+', ' ', document)\n",
    "document = re.sub(\"#[A-Za-z0-9_]+\",\"\", document)"
   ]
  }
 ],
 "metadata": {
  "kernelspec": {
   "display_name": "Python 3 (ipykernel)",
   "language": "python",
   "name": "python3"
  },
  "language_info": {
   "codemirror_mode": {
    "name": "ipython",
    "version": 3
   },
   "file_extension": ".py",
   "mimetype": "text/x-python",
   "name": "python",
   "nbconvert_exporter": "python",
   "pygments_lexer": "ipython3",
   "version": "3.9.7"
  }
 },
 "nbformat": 4,
 "nbformat_minor": 5
}
